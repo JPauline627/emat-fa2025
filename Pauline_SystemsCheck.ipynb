{
 "cells": [
  {
   "cell_type": "markdown",
   "id": "3613e5cd-b5a1-48f4-8b02-71ccc0585bc7",
   "metadata": {},
   "source": [
    "# Systems Test\n",
    "this is text\n",
    "## This is a sub heading\n",
    "\n",
    "### Sub heading of a sub heading"
   ]
  },
  {
   "cell_type": "markdown",
   "id": "67c16890-1858-4231-bd6b-eccbb532d8b2",
   "metadata": {},
   "source": [
    "This is a sample list\n",
    "1. one\n",
    "2. two\n",
    "- one\n",
    "- two"
   ]
  },
  {
   "cell_type": "code",
   "execution_count": null,
   "id": "405ed90e-b0ea-4ff9-86f8-0085cb66fc63",
   "metadata": {},
   "outputs": [],
   "source": []
  }
 ],
 "metadata": {
  "kernelspec": {
   "display_name": "Python [conda env:data-fa25]",
   "language": "python",
   "name": "conda-env-data-fa25-py"
  },
  "language_info": {
   "codemirror_mode": {
    "name": "ipython",
    "version": 3
   },
   "file_extension": ".py",
   "mimetype": "text/x-python",
   "name": "python",
   "nbconvert_exporter": "python",
   "pygments_lexer": "ipython3",
   "version": "3.12.11"
  }
 },
 "nbformat": 4,
 "nbformat_minor": 5
}
